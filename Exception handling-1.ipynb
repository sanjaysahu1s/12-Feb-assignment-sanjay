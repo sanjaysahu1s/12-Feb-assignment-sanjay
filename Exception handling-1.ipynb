{
 "cells": [
  {
   "cell_type": "markdown",
   "id": "847adbb7-db76-4977-981e-bb4bb638709c",
   "metadata": {},
   "source": [
    "Q1. What is an Exception in python? Write the difference between Exceptions and syntax errors"
   ]
  },
  {
   "cell_type": "markdown",
   "id": "be0a5805-7fc5-4e90-a092-5ff1584c7eaa",
   "metadata": {},
   "source": [
    "#Answer\n",
    "\n",
    "An exception is an error that occurs during the execution of a program. When a situation arises that violates the normal flow of the program, an exception is raised, which interrupts the program's execution and transfers control to a specific exception handler.\n",
    "\n",
    "Exceptions are typically caused by factors such as invalid user input, unavailable resources, or logical errors in the code. They can also be intentionally raised by the programmer to indicate certain conditions or trigger specific behaviors.\n",
    "\n",
    "On the other hand, syntax errors are a type of error that occur when the Python interpreter encounters code that violates the language's syntax rules. These errors are usually detected during the parsing or compilation phase before the program is executed. Common examples of syntax errors include missing colons, mismatched parentheses, or misspelled keywords.\n",
    "\n",
    "The main difference between exceptions and syntax errors is the timing of their occurrence. Syntax errors are detected before the program starts running, while exceptions are raised during runtime when an error condition is encountered. Syntax errors indicate problems with the structure of the code, while exceptions handle errors or exceptional situations that occur during program execution.\n",
    "\n",
    "In summary:\n",
    "- Syntax errors are detected before the program runs and indicate problems with the code's structure.\n",
    "- Exceptions occur during program execution and represent errors or exceptional conditions that disrupt the normal flow of the program."
   ]
  },
  {
   "cell_type": "markdown",
   "id": "d768ab2e-88b4-43b3-a1dd-6c72edbb4923",
   "metadata": {},
   "source": [
    "                      -------------------------------------------------------------------"
   ]
  },
  {
   "cell_type": "markdown",
   "id": "491180f2-5135-481c-9aa5-c7f7f6e92a5f",
   "metadata": {},
   "source": [
    "Q2. What happens when an exceptions is not handled? Explain with an example"
   ]
  },
  {
   "cell_type": "markdown",
   "id": "9215f55b-a1b0-46ca-ac5a-b9d9a6969877",
   "metadata": {},
   "source": [
    "#Answer\n",
    "\n",
    "When an exception is not handled, it leads to an \"unhandled exception\" error, which causes the program to terminate abruptly. The error message provides information about the unhandled exception, including its type and traceback, which shows the sequence of function calls that led to the exception.\n",
    "\n",
    "Here's an example to illustrate what happens when an exception is not handled:"
   ]
  },
  {
   "cell_type": "code",
   "execution_count": 1,
   "id": "399b99b7-8d9c-4b44-84a2-924faab88d14",
   "metadata": {},
   "outputs": [
    {
     "ename": "ZeroDivisionError",
     "evalue": "division by zero",
     "output_type": "error",
     "traceback": [
      "\u001b[0;31m---------------------------------------------------------------------------\u001b[0m",
      "\u001b[0;31mZeroDivisionError\u001b[0m                         Traceback (most recent call last)",
      "Cell \u001b[0;32mIn[1], line 7\u001b[0m\n\u001b[1;32m      4\u001b[0m num1 \u001b[38;5;241m=\u001b[39m \u001b[38;5;241m10\u001b[39m\n\u001b[1;32m      5\u001b[0m num2 \u001b[38;5;241m=\u001b[39m \u001b[38;5;241m0\u001b[39m\n\u001b[0;32m----> 7\u001b[0m result \u001b[38;5;241m=\u001b[39m \u001b[43mdivide\u001b[49m\u001b[43m(\u001b[49m\u001b[43mnum1\u001b[49m\u001b[43m,\u001b[49m\u001b[43m \u001b[49m\u001b[43mnum2\u001b[49m\u001b[43m)\u001b[49m\n\u001b[1;32m      8\u001b[0m \u001b[38;5;28mprint\u001b[39m(result)\n",
      "Cell \u001b[0;32mIn[1], line 2\u001b[0m, in \u001b[0;36mdivide\u001b[0;34m(a, b)\u001b[0m\n\u001b[1;32m      1\u001b[0m \u001b[38;5;28;01mdef\u001b[39;00m \u001b[38;5;21mdivide\u001b[39m(a, b):\n\u001b[0;32m----> 2\u001b[0m     \u001b[38;5;28;01mreturn\u001b[39;00m \u001b[43ma\u001b[49m\u001b[43m \u001b[49m\u001b[38;5;241;43m/\u001b[39;49m\u001b[43m \u001b[49m\u001b[43mb\u001b[49m\n",
      "\u001b[0;31mZeroDivisionError\u001b[0m: division by zero"
     ]
    }
   ],
   "source": [
    "def divide(a, b):\n",
    "    return a / b\n",
    "\n",
    "num1 = 10\n",
    "num2 = 0\n",
    "\n",
    "result = divide(num1, num2)\n",
    "print(result)\n"
   ]
  },
  {
   "cell_type": "markdown",
   "id": "61e7fe27-1fe2-442b-9990-ddf2b4958328",
   "metadata": {},
   "source": [
    "                      -------------------------------------------------------------------"
   ]
  },
  {
   "cell_type": "markdown",
   "id": "ee58e8fc-6392-4da0-a0c9-2443f93e661c",
   "metadata": {},
   "source": [
    "Q3. Which Python statements are used to catch and handle exceptions? Explain with an example"
   ]
  },
  {
   "cell_type": "markdown",
   "id": "bcb05261-dcb8-4cdb-be16-95a5aa6c1268",
   "metadata": {},
   "source": [
    "#Answer\n",
    "\n",
    "To catch and handle exceptions in Python, you can use the try and except statements. The try statement allows you to enclose a block of code that may raise an exception, and the except statement provides a block of code that specifies how to handle the exception.\n",
    "\n",
    "Here's an example that demonstrates the usage of try and except:"
   ]
  },
  {
   "cell_type": "code",
   "execution_count": 2,
   "id": "83acdc9d-fb84-45cc-a7da-1290bfd878ca",
   "metadata": {},
   "outputs": [
    {
     "name": "stdout",
     "output_type": "stream",
     "text": [
      "Error: Division by zero is not allowed.\n"
     ]
    }
   ],
   "source": [
    "def divide(a, b):\n",
    "    try:\n",
    "        result = a / b\n",
    "        print(\"Division result:\", result)\n",
    "    except ZeroDivisionError:\n",
    "        print(\"Error: Division by zero is not allowed.\")\n",
    "\n",
    "num1 = 10\n",
    "num2 = 0\n",
    "\n",
    "divide(num1, num2)\n"
   ]
  },
  {
   "cell_type": "markdown",
   "id": "ab68aa9b-06e7-48ba-9454-ab662e3c7fc2",
   "metadata": {},
   "source": [
    "                      -------------------------------------------------------------------"
   ]
  },
  {
   "cell_type": "markdown",
   "id": "603d8454-0f91-4c58-9047-9330eaa2c9b0",
   "metadata": {},
   "source": [
    "Q4. Explain with an example:\n",
    "\n",
    "1.  try and else\n",
    " \n",
    "3. finally\n",
    "\n",
    "4. raise"
   ]
  },
  {
   "cell_type": "markdown",
   "id": "16576e30-1f78-447c-b8cf-b5e133b1874b",
   "metadata": {},
   "source": [
    "#Answer\n",
    "\n",
    "try, except, and else:\n",
    "The try block is used to enclose a section of code where an exception might occur. The except block specifies how to handle the exception. The else block, which is optional, is executed if no exception is raised within the try block."
   ]
  },
  {
   "cell_type": "code",
   "execution_count": 3,
   "id": "912fee5e-2cf9-4309-b74b-86e68cfaf114",
   "metadata": {},
   "outputs": [
    {
     "name": "stdin",
     "output_type": "stream",
     "text": [
      "Enter a number:  1\n",
      "Enter another number:  45\n"
     ]
    },
    {
     "name": "stdout",
     "output_type": "stream",
     "text": [
      "Division result: 0.022222222222222223\n"
     ]
    }
   ],
   "source": [
    "try:\n",
    "    num1 = int(input(\"Enter a number: \"))\n",
    "    num2 = int(input(\"Enter another number: \"))\n",
    "    result = num1 / num2\n",
    "except ValueError:\n",
    "    print(\"Invalid input. Please enter a valid number.\")\n",
    "except ZeroDivisionError:\n",
    "    print(\"Error: Division by zero is not allowed.\")\n",
    "else:\n",
    "    print(\"Division result:\", result)\n"
   ]
  },
  {
   "cell_type": "markdown",
   "id": "c6151816-de25-42ba-abcb-e5c2d8c78ae6",
   "metadata": {},
   "source": [
    "finally:\n",
    "The finally block is used to define a section of code that is always executed, regardless of whether an exception is raised or not. It is commonly used to perform cleanup actions or release resources."
   ]
  },
  {
   "cell_type": "code",
   "execution_count": null,
   "id": "40a05c8c-3f2c-4f85-b827-3ba2d8aaca21",
   "metadata": {},
   "outputs": [],
   "source": [
    "try:\n",
    "    file = open(\"data.txt\", \"r\")\n",
    "    content = file.read()\n",
    "    print(content)\n",
    "except FileNotFoundError:\n",
    "    print(\"Error: File not found.\")\n",
    "finally:\n",
    "    file.close()\n"
   ]
  },
  {
   "cell_type": "markdown",
   "id": "50b195b8-bffc-407f-a59b-99ce14d8cc41",
   "metadata": {},
   "source": [
    "raise:\n",
    "The raise statement is used to explicitly raise an exception. It allows you to create and raise your own exceptions when a specific condition is met."
   ]
  },
  {
   "cell_type": "code",
   "execution_count": 5,
   "id": "dfbd8710-1bfd-40ab-8966-b4b28910fece",
   "metadata": {},
   "outputs": [
    {
     "name": "stdout",
     "output_type": "stream",
     "text": [
      "Error: Invalid year of birth.\n"
     ]
    }
   ],
   "source": [
    "def calculate_age(year_of_birth):\n",
    "    current_year = 2023\n",
    "    if year_of_birth > current_year:\n",
    "        raise ValueError(\"Invalid year of birth.\")\n",
    "    age = current_year - year_of_birth\n",
    "    return age\n",
    "\n",
    "try:\n",
    "    age = calculate_age(2050)\n",
    "    print(\"Age:\", age)\n",
    "except ValueError as e:\n",
    "    print(\"Error:\", str(e))\n"
   ]
  },
  {
   "cell_type": "markdown",
   "id": "cefbaf43-6ff9-49ad-b189-2a56c6f188e8",
   "metadata": {},
   "source": [
    "                      -------------------------------------------------------------------"
   ]
  },
  {
   "cell_type": "markdown",
   "id": "d83dbde1-120b-428e-9820-73b17987c381",
   "metadata": {},
   "source": [
    "Q5. What are Custom Exceptions in python? Why do we need Custom Exceptions? Explain with an example"
   ]
  },
  {
   "cell_type": "markdown",
   "id": "2bfa57c1-a275-4bb2-9502-798101e32f12",
   "metadata": {},
   "source": [
    "#Answer\n",
    "\n",
    "custom exceptions are user-defined exceptions that are created by inheriting from the base Exception class or one of its subclasses. They allow you to define and raise your own exceptions based on specific conditions or requirements in your code.\n",
    "\n",
    "Custom exceptions are useful when you need to handle specific error conditions or define a specific type of exception that is relevant to your application or domain. By creating custom exceptions, you can provide more meaningful and informative error messages, handle exceptional situations uniquely, and separate different types of errors for better organization and clarity in your code.\n",
    "\n",
    "Example:"
   ]
  },
  {
   "cell_type": "code",
   "execution_count": 6,
   "id": "c883735b-7746-4b34-812a-55c038019d1f",
   "metadata": {},
   "outputs": [
    {
     "name": "stdout",
     "output_type": "stream",
     "text": [
      "Error: Insufficient funds. Balance: 1000, Amount: 1500\n"
     ]
    }
   ],
   "source": [
    "class WithdrawalError(Exception):\n",
    "    pass\n",
    "\n",
    "class InsufficientFundsError(WithdrawalError):\n",
    "    def __init__(self, balance, amount):\n",
    "        self.balance = balance\n",
    "        self.amount = amount\n",
    "        message = f\"Insufficient funds. Balance: {balance}, Amount: {amount}\"\n",
    "        super().__init__(message)\n",
    "\n",
    "def withdraw(balance, amount):\n",
    "    if amount > balance:\n",
    "        raise InsufficientFundsError(balance, amount)\n",
    "    else:\n",
    "        print(\"Withdrawal successful.\")\n",
    "\n",
    "try:\n",
    "    account_balance = 1000\n",
    "    withdrawal_amount = 1500\n",
    "    withdraw(account_balance, withdrawal_amount)\n",
    "except InsufficientFundsError as e:\n",
    "    print(\"Error:\", str(e))\n"
   ]
  },
  {
   "cell_type": "markdown",
   "id": "4bd56842-96dd-463e-9a53-abe5f7acc2c6",
   "metadata": {},
   "source": [
    "                       -------------------------------------------------------------------"
   ]
  },
  {
   "cell_type": "markdown",
   "id": "e5cfcd8a-e250-42a7-8424-c3a5f8fe7a69",
   "metadata": {},
   "source": [
    "Q6. Create a custom exception class. Use this class to handle an exception."
   ]
  },
  {
   "cell_type": "code",
   "execution_count": 7,
   "id": "e56c2925-c023-4f09-be5d-2b3737280d6d",
   "metadata": {},
   "outputs": [
    {
     "name": "stdout",
     "output_type": "stream",
     "text": [
      "Error: Division by zero is not allowed.\n"
     ]
    }
   ],
   "source": [
    "#Answer\n",
    "\n",
    "class CustomException(Exception):\n",
    "    def __init__(self, message):\n",
    "        self.message = message\n",
    "\n",
    "def divide_numbers(a, b):\n",
    "    if b == 0:\n",
    "        raise CustomException(\"Division by zero is not allowed.\")\n",
    "    return a / b\n",
    "\n",
    "try:\n",
    "    num1 = 10\n",
    "    num2 = 0\n",
    "    result = divide_numbers(num1, num2)\n",
    "    print(\"Result:\", result)\n",
    "except CustomException as e:\n",
    "    print(\"Error:\", e.message)\n"
   ]
  },
  {
   "cell_type": "markdown",
   "id": "c195c9bd-aba6-49ad-a195-6b541eb54fb2",
   "metadata": {},
   "source": [
    "                        -------------------------------------------------------------------"
   ]
  }
 ],
 "metadata": {
  "kernelspec": {
   "display_name": "Python 3 (ipykernel)",
   "language": "python",
   "name": "python3"
  },
  "language_info": {
   "codemirror_mode": {
    "name": "ipython",
    "version": 3
   },
   "file_extension": ".py",
   "mimetype": "text/x-python",
   "name": "python",
   "nbconvert_exporter": "python",
   "pygments_lexer": "ipython3",
   "version": "3.10.8"
  }
 },
 "nbformat": 4,
 "nbformat_minor": 5
}
